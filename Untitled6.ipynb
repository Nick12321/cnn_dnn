{
 "cells": [
  {
   "cell_type": "code",
   "execution_count": null,
   "metadata": {},
   "outputs": [],
   "source": [
    "from keras.preprocessing import image as keras_image\n",
    "import matplotlib.pyplot as plt\n",
    "import os\n",
    "\n",
    "photo_location = 'sample_images/'\n",
    "\n",
    "for name in os.listdir(photo_location):\n",
    "    if name.startswith('.'): continue # Avoid looking at hidden files, which the OS sometimes puts in the folder\n",
    "    image = keras_image.load_img(photo_location + name)\n",
    "    plt.imshow(image)\n",
    "    plt.show()"
   ]
  }
 ],
 "metadata": {
  "kernelspec": {
   "display_name": "Python 3",
   "language": "python",
   "name": "python3"
  },
  "language_info": {
   "codemirror_mode": {
    "name": "ipython",
    "version": 3
   },
   "file_extension": ".py",
   "mimetype": "text/x-python",
   "name": "python",
   "nbconvert_exporter": "python",
   "pygments_lexer": "ipython3",
   "version": "3.7.5"
  }
 },
 "nbformat": 4,
 "nbformat_minor": 2
}
