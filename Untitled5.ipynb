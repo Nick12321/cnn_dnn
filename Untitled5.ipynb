{
 "cells": [
  {
   "cell_type": "code",
   "execution_count": 1,
   "metadata": {},
   "outputs": [
    {
     "name": "stderr",
     "output_type": "stream",
     "text": [
      "Using TensorFlow backend.\n"
     ]
    }
   ],
   "source": [
    "# See last trial for latest results and optimization notes.\n",
    "# Need 93% accuracy\n",
    "\n",
    "# Setting up MNST, this should look familiar:\n",
    "import numpy as np\n",
    "from matplotlib import pyplot as plt\n",
    "from keras.datasets import fashion_mnist\n",
    "from keras.models import Sequential\n",
    "from keras.layers import Dense, MaxPooling2D, Conv2D, Flatten, Dropout\n",
    "from keras.utils import to_categorical\n",
    "\n",
    "# For examining results\n",
    "from sklearn.metrics import confusion_matrix\n",
    "import seaborn as sn\n",
    "\n",
    "num_classes = 10 \n",
    "image_size = 784\n",
    "\n",
    "(training_images, training_labels), (test_images, test_labels) = fashion_mnist.load_data()\n",
    "training_data = training_images.reshape(training_images.shape[0], image_size) \n",
    "test_data = test_images.reshape(test_images.shape[0], image_size)\n",
    "\n",
    "training_labels = to_categorical(training_labels, num_classes)\n",
    "test_labels = to_categorical(test_labels, num_classes)"
   ]
  },
  {
   "cell_type": "code",
   "execution_count": 2,
   "metadata": {},
   "outputs": [],
   "source": [
    "conv_training_data = training_images.reshape(60000, 28, 28, 1)\n",
    "conv_test_data = test_images.reshape(10000, 28, 28, 1)"
   ]
  },
  {
   "cell_type": "code",
   "execution_count": 3,
   "metadata": {},
   "outputs": [],
   "source": [
    "def plot_training_history(history, model, eval_images=False):\n",
    "    figure = plt.figure()\n",
    "\n",
    "    plt.subplot(1, 2, 1)\n",
    "    plt.plot(history.history['acc'])\n",
    "    plt.plot(history.history['val_acc'])\n",
    "    plt.title('model accuracy')\n",
    "    plt.ylabel('accuracy')\n",
    "    plt.xlabel('epoch')\n",
    "    plt.legend(['training', 'validation'], loc='best')\n",
    "    plt.tight_layout()\n",
    "\n",
    "    plt.subplot(1, 2, 2)\n",
    "    plt.plot(history.history['loss'])\n",
    "    plt.plot(history.history['val_loss'])\n",
    "    plt.title('model loss')\n",
    "    plt.ylabel('loss')\n",
    "    plt.xlabel('epoch')\n",
    "    plt.legend(['training', 'validation'], loc='best')\n",
    "    plt.tight_layout()\n",
    "\n",
    "    figure.tight_layout()\n",
    "    plt.show()\n",
    "    \n",
    "    if eval_images:\n",
    "        loss, accuracy  = model.evaluate(conv_test_data, test_labels, verbose=False)\n",
    "    else:\n",
    "        loss, accuracy  = model.evaluate(test_data, test_labels, verbose=False)\n",
    "        \n",
    "    print(f'Test loss: {loss:.3}')\n",
    "    print(f'Test accuracy: {accuracy:.3}')"
   ]
  },
  {
   "cell_type": "code",
   "execution_count": 4,
   "metadata": {},
   "outputs": [
    {
     "name": "stdout",
     "output_type": "stream",
     "text": [
      "WARNING:tensorflow:From /home/nick/.local/share/virtualenvs/intro-to-deep-learning-JvewHh9U/lib/python3.7/site-packages/keras/backend/tensorflow_backend.py:74: The name tf.get_default_graph is deprecated. Please use tf.compat.v1.get_default_graph instead.\n",
      "\n",
      "WARNING:tensorflow:From /home/nick/.local/share/virtualenvs/intro-to-deep-learning-JvewHh9U/lib/python3.7/site-packages/keras/backend/tensorflow_backend.py:517: The name tf.placeholder is deprecated. Please use tf.compat.v1.placeholder instead.\n",
      "\n",
      "WARNING:tensorflow:From /home/nick/.local/share/virtualenvs/intro-to-deep-learning-JvewHh9U/lib/python3.7/site-packages/keras/backend/tensorflow_backend.py:4138: The name tf.random_uniform is deprecated. Please use tf.random.uniform instead.\n",
      "\n",
      "WARNING:tensorflow:From /home/nick/.local/share/virtualenvs/intro-to-deep-learning-JvewHh9U/lib/python3.7/site-packages/keras/backend/tensorflow_backend.py:3976: The name tf.nn.max_pool is deprecated. Please use tf.nn.max_pool2d instead.\n",
      "\n",
      "WARNING:tensorflow:From /home/nick/.local/share/virtualenvs/intro-to-deep-learning-JvewHh9U/lib/python3.7/site-packages/keras/backend/tensorflow_backend.py:133: The name tf.placeholder_with_default is deprecated. Please use tf.compat.v1.placeholder_with_default instead.\n",
      "\n",
      "WARNING:tensorflow:From /home/nick/.local/share/virtualenvs/intro-to-deep-learning-JvewHh9U/lib/python3.7/site-packages/keras/backend/tensorflow_backend.py:3445: calling dropout (from tensorflow.python.ops.nn_ops) with keep_prob is deprecated and will be removed in a future version.\n",
      "Instructions for updating:\n",
      "Please use `rate` instead of `keep_prob`. Rate should be set to `rate = 1 - keep_prob`.\n",
      "WARNING:tensorflow:From /home/nick/.local/share/virtualenvs/intro-to-deep-learning-JvewHh9U/lib/python3.7/site-packages/keras/optimizers.py:790: The name tf.train.Optimizer is deprecated. Please use tf.compat.v1.train.Optimizer instead.\n",
      "\n",
      "WARNING:tensorflow:From /home/nick/.local/share/virtualenvs/intro-to-deep-learning-JvewHh9U/lib/python3.7/site-packages/keras/backend/tensorflow_backend.py:3295: The name tf.log is deprecated. Please use tf.math.log instead.\n",
      "\n",
      "WARNING:tensorflow:From /home/nick/.local/share/virtualenvs/intro-to-deep-learning-JvewHh9U/lib/python3.7/site-packages/tensorflow/python/ops/math_grad.py:1250: add_dispatch_support.<locals>.wrapper (from tensorflow.python.ops.array_ops) is deprecated and will be removed in a future version.\n",
      "Instructions for updating:\n",
      "Use tf.where in 2.0, which has the same broadcast rule as np.where\n",
      "Train on 54000 samples, validate on 6000 samples\n",
      "Epoch 1/5\n",
      "54000/54000 [==============================] - 37s 679us/step - loss: 0.8602 - acc: 0.7736 - val_loss: 0.3374 - val_acc: 0.8730\n",
      "Epoch 2/5\n",
      "54000/54000 [==============================] - 36s 668us/step - loss: 0.3598 - acc: 0.8769 - val_loss: 0.3045 - val_acc: 0.8865\n",
      "Epoch 3/5\n",
      "54000/54000 [==============================] - 36s 664us/step - loss: 0.3049 - acc: 0.8929 - val_loss: 0.2881 - val_acc: 0.8943\n",
      "Epoch 4/5\n",
      "54000/54000 [==============================] - 38s 699us/step - loss: 0.2737 - acc: 0.9035 - val_loss: 0.2616 - val_acc: 0.9078\n",
      "Epoch 5/5\n",
      "54000/54000 [==============================] - 37s 681us/step - loss: 0.2429 - acc: 0.9121 - val_loss: 0.2683 - val_acc: 0.9083\n"
     ]
    },
    {
     "data": {
      "image/png": "[encoded data removed]",
      "text/plain": [
       "<Figure size 432x288 with 2 Axes>"
      ]
     },
     "metadata": {
      "needs_background": "light"
     },
     "output_type": "display_data"
    },
    {
     "name": "stdout",
     "output_type": "stream",
     "text": [
      "Test loss: 0.282\n",
      "Test accuracy: 0.903\n"
     ]
    }
   ],
   "source": [
    "# Best CNN model reached 0.905 w/ 30 sec run time.\n",
    "# used best model w/ 3rd CNN filter, didnt work.\n",
    "# Tried more epochs didnt work.\n",
    "# stride instead of maxpool didnt work.\n",
    "###test all optimizers and loss next.\n",
    "#####then, optimize ANN head.\n",
    "#######finally, data augmentation\n",
    "\n",
    "#Trying \n",
    "\n",
    "model = Sequential()\n",
    "\n",
    "model.add(Conv2D(32, kernel_size=(5, 5), activation='relu', padding='same', input_shape=(28,28,1)))\n",
    "model.add(MaxPooling2D(pool_size=(2, 2)))\n",
    "\n",
    "model.add(Conv2D(64, kernel_size=(3, 3), activation='relu', padding='same'))\n",
    "model.add(MaxPooling2D(pool_size=(2, 2)))\n",
    "\n",
    "#model.add(Conv2D(64, kernel_size=(3, 3), strides=(2,2), activation='relu', padding='same'))\n",
    "\n",
    "model.add(Flatten())\n",
    "model.add(Dense(256, activation='relu'))\n",
    "model.add(Dropout(0.15))\n",
    "model.add(Dense(126, activation='relu'))\n",
    "model.add(Dropout(0.2))\n",
    "model.add(Dense(64, activation='relu'))\n",
    "model.add(Dropout(0.25))\n",
    "model.add(Dense(num_classes, activation='softmax'))\n",
    "\n",
    "model.compile(optimizer='adam', loss='categorical_crossentropy', metrics=['accuracy'])\n",
    "history = model.fit(conv_training_data, training_labels, batch_size=128, epochs=5, verbose=True, validation_split=.1)\n",
    "\n",
    "plot_training_history(history, model, eval_images=True)"
   ]
  },
  {
   "cell_type": "code",
   "execution_count": 5,
   "metadata": {},
   "outputs": [
    {
     "name": "stdout",
     "output_type": "stream",
     "text": [
      "Train on 54000 samples, validate on 6000 samples\n",
      "Epoch 1/6\n",
      "54000/54000 [==============================] - 35s 647us/step - loss: 0.8706 - acc: 0.7770 - val_loss: 0.3369 - val_acc: 0.8783\n",
      "Epoch 2/6\n",
      "54000/54000 [==============================] - 34s 637us/step - loss: 0.3615 - acc: 0.8734 - val_loss: 0.2917 - val_acc: 0.8950\n",
      "Epoch 3/6\n",
      "54000/54000 [==============================] - 34s 632us/step - loss: 0.3059 - acc: 0.8925 - val_loss: 0.2782 - val_acc: 0.8982\n",
      "Epoch 4/6\n",
      "54000/54000 [==============================] - 34s 639us/step - loss: 0.2748 - acc: 0.9020 - val_loss: 0.2698 - val_acc: 0.9010\n",
      "Epoch 5/6\n",
      "54000/54000 [==============================] - 34s 638us/step - loss: 0.2510 - acc: 0.9092 - val_loss: 0.2752 - val_acc: 0.9035\n",
      "Epoch 6/6\n",
      "54000/54000 [==============================] - 35s 641us/step - loss: 0.2353 - acc: 0.9144 - val_loss: 0.2661 - val_acc: 0.9100\n"
     ]
    },
    {
     "data": {
      "image/png": "[encoded data removed]",
      "text/plain": [
       "<Figure size 432x288 with 2 Axes>"
      ]
     },
     "metadata": {
      "needs_background": "light"
     },
     "output_type": "display_data"
    },
    {
     "name": "stdout",
     "output_type": "stream",
     "text": [
      "Test loss: 0.283\n",
      "Test accuracy: 0.898\n"
     ]
    }
   ],
   "source": [
    "# Best CNN model reached 0.905 w/ 30 sec run time.\n",
    "# used best model w/ 3rd CNN filter, didnt work.\n",
    "# Tried more epochs didnt work.\n",
    "# stride instead of maxpool didnt work.\n",
    "###test all optimizers and loss next.\n",
    "#####then, optimize ANN head.\n",
    "#######finally, data augmentation\n",
    "\n",
    "#Trying \n",
    "\n",
    "model = Sequential()\n",
    "\n",
    "model.add(Conv2D(32, kernel_size=(5, 5), activation='relu', padding='same', input_shape=(28,28,1)))\n",
    "model.add(MaxPooling2D(pool_size=(2, 2)))\n",
    "\n",
    "model.add(Conv2D(64, kernel_size=(3, 3), activation='relu', padding='same'))\n",
    "model.add(MaxPooling2D(pool_size=(2, 2)))\n",
    "\n",
    "#model.add(Conv2D(64, kernel_size=(3, 3), strides=(2,2), activation='relu', padding='same'))\n",
    "\n",
    "model.add(Flatten())\n",
    "model.add(Dense(256, activation='relu'))\n",
    "model.add(Dropout(0.15))\n",
    "model.add(Dense(126, activation='relu'))\n",
    "model.add(Dropout(0.2))\n",
    "model.add(Dense(64, activation='relu'))\n",
    "model.add(Dropout(0.25))\n",
    "model.add(Dense(num_classes, activation='softmax'))\n",
    "\n",
    "model.compile(optimizer='adam', loss='categorical_crossentropy', metrics=['accuracy'])\n",
    "history = model.fit(conv_training_data, training_labels, batch_size=128, epochs=6, verbose=True, validation_split=.1)\n",
    "\n",
    "plot_training_history(history, model, eval_images=True)"
   ]
  },
  {
   "cell_type": "code",
   "execution_count": 6,
   "metadata": {},
   "outputs": [
    {
     "name": "stdout",
     "output_type": "stream",
     "text": [
      "Train on 54000 samples, validate on 6000 samples\n",
      "Epoch 1/4\n",
      "54000/54000 [==============================] - 35s 647us/step - loss: 1.1129 - acc: 0.7707 - val_loss: 0.3232 - val_acc: 0.8807\n",
      "Epoch 2/4\n",
      "54000/54000 [==============================] - 34s 635us/step - loss: 0.3471 - acc: 0.8797 - val_loss: 0.2949 - val_acc: 0.8917\n",
      "Epoch 3/4\n",
      "54000/54000 [==============================] - 34s 635us/step - loss: 0.2971 - acc: 0.8947 - val_loss: 0.2730 - val_acc: 0.8985\n",
      "Epoch 4/4\n",
      "54000/54000 [==============================] - 37s 684us/step - loss: 0.2657 - acc: 0.9040 - val_loss: 0.2662 - val_acc: 0.9053\n"
     ]
    },
    {
     "data": {
      "image/png": "[encoded data removed]",
      "text/plain": [
       "<Figure size 432x288 with 2 Axes>"
      ]
     },
     "metadata": {
      "needs_background": "light"
     },
     "output_type": "display_data"
    },
    {
     "name": "stdout",
     "output_type": "stream",
     "text": [
      "Test loss: 0.291\n",
      "Test accuracy: 0.9\n"
     ]
    }
   ],
   "source": [
    "# Best CNN model reached 0.905 w/ 30 sec run time.\n",
    "# used best model w/ 3rd CNN filter, didnt work.\n",
    "# Tried more epochs didnt work.\n",
    "# stride instead of maxpool didnt work.\n",
    "###test all optimizers and loss next.\n",
    "#####then, optimize ANN head.\n",
    "#######finally, data augmentation\n",
    "\n",
    "#Trying \n",
    "\n",
    "model = Sequential()\n",
    "\n",
    "model.add(Conv2D(32, kernel_size=(5, 5), activation='relu', padding='same', input_shape=(28,28,1)))\n",
    "model.add(MaxPooling2D(pool_size=(2, 2)))\n",
    "\n",
    "model.add(Conv2D(64, kernel_size=(3, 3), activation='relu', padding='same'))\n",
    "model.add(MaxPooling2D(pool_size=(2, 2)))\n",
    "\n",
    "#model.add(Conv2D(64, kernel_size=(3, 3), strides=(2,2), activation='relu', padding='same'))\n",
    "\n",
    "model.add(Flatten())\n",
    "model.add(Dense(256, activation='relu'))\n",
    "model.add(Dropout(0.15))\n",
    "model.add(Dense(126, activation='relu'))\n",
    "model.add(Dropout(0.2))\n",
    "model.add(Dense(64, activation='relu'))\n",
    "model.add(Dropout(0.25))\n",
    "model.add(Dense(num_classes, activation='softmax'))\n",
    "\n",
    "model.compile(optimizer='adam', loss='categorical_crossentropy', metrics=['accuracy'])\n",
    "history = model.fit(conv_training_data, training_labels, batch_size=128, epochs=4, verbose=True, validation_split=.1)\n",
    "\n",
    "plot_training_history(history, model, eval_images=True)"
   ]
  },
  {
   "cell_type": "code",
   "execution_count": 8,
   "metadata": {},
   "outputs": [
    {
     "name": "stdout",
     "output_type": "stream",
     "text": [
      "[[0. 0. 0. ... 0. 0. 1.]\n",
      " [0. 0. 1. ... 0. 0. 0.]\n",
      " [0. 1. 0. ... 0. 0. 0.]\n",
      " ...\n",
      " [0. 0. 0. ... 0. 1. 0.]\n",
      " [0. 1. 0. ... 0. 0. 0.]\n",
      " [0. 0. 0. ... 0. 0. 0.]]\n"
     ]
    }
   ],
   "source": [
    "print(test_labels)"
   ]
  },
  {
   "cell_type": "code",
   "execution_count": 9,
   "metadata": {},
   "outputs": [
    {
     "name": "stdout",
     "output_type": "stream",
     "text": [
      "[[0. 0. 0. ... 0. 0. 1.]\n",
      " [1. 0. 0. ... 0. 0. 0.]\n",
      " [1. 0. 0. ... 0. 0. 0.]\n",
      " ...\n",
      " [0. 0. 0. ... 0. 0. 0.]\n",
      " [1. 0. 0. ... 0. 0. 0.]\n",
      " [0. 0. 0. ... 0. 0. 0.]]\n"
     ]
    }
   ],
   "source": [
    "print(training_labels)"
   ]
  },
  {
   "cell_type": "code",
   "execution_count": 10,
   "metadata": {},
   "outputs": [
    {
     "name": "stdout",
     "output_type": "stream",
     "text": [
      "[[[0 0 0 ... 0 0 0]\n",
      "  [0 0 0 ... 0 0 0]\n",
      "  [0 0 0 ... 0 0 0]\n",
      "  ...\n",
      "  [0 0 0 ... 0 0 0]\n",
      "  [0 0 0 ... 0 0 0]\n",
      "  [0 0 0 ... 0 0 0]]\n",
      "\n",
      " [[0 0 0 ... 0 0 0]\n",
      "  [0 0 0 ... 0 0 0]\n",
      "  [0 0 0 ... 0 0 0]\n",
      "  ...\n",
      "  [0 0 0 ... 0 0 0]\n",
      "  [0 0 0 ... 0 0 0]\n",
      "  [0 0 0 ... 0 0 0]]\n",
      "\n",
      " [[0 0 0 ... 0 0 0]\n",
      "  [0 0 0 ... 0 0 0]\n",
      "  [0 0 0 ... 0 0 0]\n",
      "  ...\n",
      "  [0 0 0 ... 0 0 0]\n",
      "  [0 0 0 ... 0 0 0]\n",
      "  [0 0 0 ... 0 0 0]]\n",
      "\n",
      " ...\n",
      "\n",
      " [[0 0 0 ... 0 0 0]\n",
      "  [0 0 0 ... 0 0 0]\n",
      "  [0 0 0 ... 0 0 0]\n",
      "  ...\n",
      "  [0 0 0 ... 0 0 0]\n",
      "  [0 0 0 ... 0 0 0]\n",
      "  [0 0 0 ... 0 0 0]]\n",
      "\n",
      " [[0 0 0 ... 0 0 0]\n",
      "  [0 0 0 ... 0 0 0]\n",
      "  [0 0 0 ... 0 0 0]\n",
      "  ...\n",
      "  [0 0 0 ... 0 0 0]\n",
      "  [0 0 0 ... 0 0 0]\n",
      "  [0 0 0 ... 0 0 0]]\n",
      "\n",
      " [[0 0 0 ... 0 0 0]\n",
      "  [0 0 0 ... 0 0 0]\n",
      "  [0 0 0 ... 0 0 0]\n",
      "  ...\n",
      "  [0 0 0 ... 0 0 0]\n",
      "  [0 0 0 ... 0 0 0]\n",
      "  [0 0 0 ... 0 0 0]]]\n"
     ]
    }
   ],
   "source": [
    "print(training_images)"
   ]
  },
  {
   "cell_type": "code",
   "execution_count": null,
   "metadata": {},
   "outputs": [],
   "source": []
  }
 ],
 "metadata": {
  "kernelspec": {
   "display_name": "Python 3",
   "language": "python",
   "name": "python3"
  },
  "language_info": {
   "codemirror_mode": {
    "name": "ipython",
    "version": 3
   },
   "file_extension": ".py",
   "mimetype": "text/x-python",
   "name": "python",
   "nbconvert_exporter": "python",
   "pygments_lexer": "ipython3",
   "version": "3.7.5"
  }
 },
 "nbformat": 4,
 "nbformat_minor": 2
}
