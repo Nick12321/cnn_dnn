{
 "cells": [
  {
   "cell_type": "code",
   "execution_count": null,
   "metadata": {},
   "outputs": [],
   "source": [
    "# Setting up MNST, this should look familiar:\n",
    "from matplotlib import pyplot as plt\n",
    "from keras.datasets import mnist\n",
    "from keras.models import Sequential\n",
    "from keras.layers import Dense\n",
    "from keras.utils import to_categorical\n",
    "from keras.layers import LeakyReLU\n",
    "from keras.layers import Dense, Dropout\n",
    "import time # speed of optimizers\n",
    "\n",
    "mnist_num_classes = 10 \n",
    "mnist_image_size = 784\n",
    "\n",
    "(mnist_training_images, mnist_training_labels), (mnist_test_images, mnist_test_labels) = mnist.load_data()\n",
    "mnist_training_data = mnist_training_images.reshape(mnist_training_images.shape[0], mnist_image_size) \n",
    "mnist_test_data = mnist_test_images.reshape(mnist_test_images.shape[0], mnist_image_size)\n",
    "\n",
    "mnist_training_labels = to_categorical(mnist_training_labels, mnist_num_classes)\n",
    "mnist_test_labels = to_categorical(mnist_test_labels, mnist_num_classes)"
   ]
  },
  {
   "cell_type": "code",
   "execution_count": null,
   "metadata": {},
   "outputs": [],
   "source": [
    "def plot_training_history(history, model, name, time):\n",
    "    figure = plt.figure()\n",
    "    figure.suptitle(name)\n",
    "    plt.subplot(1, 2, 1)\n",
    "    plt.plot(history.history['acc'])\n",
    "    plt.plot(history.history['val_acc'])\n",
    "    plt.title('model accuracy')\n",
    "    plt.ylabel('accuracy')\n",
    "    plt.xlabel('epoch')\n",
    "    plt.legend(['training', 'validation'], loc='best')\n",
    "    plt.tight_layout()\n",
    "\n",
    "    plt.subplot(1, 2, 2)\n",
    "    plt.plot(history.history['loss'])\n",
    "    plt.plot(history.history['val_loss'])\n",
    "    plt.title('model loss')\n",
    "    plt.ylabel('loss')\n",
    "    plt.xlabel('epoch')\n",
    "    plt.legend(['training', 'validation'], loc='best')\n",
    "    plt.tight_layout()\n",
    "\n",
    "    figure.tight_layout()\n",
    "    plt.show()\n",
    "    \n",
    "    loss, accuracy  = model.evaluate(mnist_test_data, mnist_test_labels, verbose=False)\n",
    "    print(f'Trained in {time} seconds')\n",
    "    print(f'Test loss: {loss:.3}')\n",
    "    print(f'Test accuracy: {accuracy:.3}')"
   ]
  },
  {
   "cell_type": "code",
   "execution_count": null,
   "metadata": {},
   "outputs": [],
   "source": [
    "def nick_model_ReLU_dropout():\n",
    "    model_ReLU_drop = Sequential()\n",
    "    model_ReLU_drop.add(Dense(units=256, input_shape=(mnist_image_size,)))\n",
    "    model_ReLU_drop.add(LeakyReLU(alpha=.01))\n",
    "    model_ReLU_drop.add(Dense(units=128, input_shape=(mnist_image_size,)))\n",
    "    model_ReLU_drop.add(LeakyReLU(alpha=.01))\n",
    "    model.add(Dropout(rate=0.5))\n",
    "    model_ReLU_drop.add(Dense(units=64, input_shape=(mnist_image_size,)))\n",
    "    model_ReLU_drop.add(LeakyReLU(alpha=.01))\n",
    "    model.add(Dropout(rate=0.1))\n",
    "    model_ReLU_drop.add(Dense(units=64, input_shape=(mnist_image_size,)))\n",
    "    model_ReLU_drop.add(LeakyReLU(alpha=.01))\n",
    "    model.add(Dropout(rate=0.15))\n",
    "    model_ReLU_drop.add(Dense(units=32, input_shape=(mnist_image_size,)))\n",
    "    model_ReLU_drop.add(LeakyReLU(alpha=.01))\n",
    "    model.add(Dropout(rate=0.2))\n",
    "    model_ReLU_drop.add(Dense(units=mnist_num_classes, activation='softmax'))\n",
    "    \n",
    "    return model_ReLU_drop"
   ]
  },
  {
   "cell_type": "code",
   "execution_count": null,
   "metadata": {},
   "outputs": [],
   "source": [
    "name = \"sgd\"\n",
    "model = nick_model_ReLU_dropout()\n",
    "model.compile(optimizer=\"sgd\", loss='categorical_crossentropy', metrics=['accuracy'])\n",
    "start = time.process_time()\n",
    "history = model.fit(mnist_training_data, mnist_training_labels, batch_size=128, epochs=20, verbose=False, validation_split=.1)\n",
    "stop = time.process_time()\n",
    "plot_training_history(history, model, name, stop - start)"
   ]
  },
  {
   "cell_type": "code",
   "execution_count": null,
   "metadata": {},
   "outputs": [],
   "source": []
  },
  {
   "cell_type": "code",
   "execution_count": null,
   "metadata": {},
   "outputs": [],
   "source": []
  },
  {
   "cell_type": "code",
   "execution_count": null,
   "metadata": {},
   "outputs": [],
   "source": []
  },
  {
   "cell_type": "code",
   "execution_count": null,
   "metadata": {},
   "outputs": [],
   "source": []
  },
  {
   "cell_type": "code",
   "execution_count": null,
   "metadata": {},
   "outputs": [],
   "source": []
  }
 ],
 "metadata": {
  "kernelspec": {
   "display_name": "Python 3",
   "language": "python",
   "name": "python3"
  },
  "language_info": {
   "codemirror_mode": {
    "name": "ipython",
    "version": 3
   },
   "file_extension": ".py",
   "mimetype": "text/x-python",
   "name": "python",
   "nbconvert_exporter": "python",
   "pygments_lexer": "ipython3",
   "version": "3.7.5"
  }
 },
 "nbformat": 4,
 "nbformat_minor": 2
}
